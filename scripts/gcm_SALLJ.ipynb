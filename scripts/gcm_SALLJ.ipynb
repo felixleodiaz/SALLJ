{
 "cells": [
  {
   "cell_type": "code",
   "execution_count": 9,
   "id": "92c80f29",
   "metadata": {},
   "outputs": [],
   "source": [
    "# libraries\n",
    "\n",
    "import seaborn as sns\n",
    "import xarray as xr\n",
    "import numpy as np\n",
    "import pandas as pd\n",
    "import intake\n",
    "import fsspec\n",
    "import dask\n",
    "import warnings\n",
    "from tqdm import tqdm\n",
    "from xmip.preprocessing import combined_preprocessing\n",
    "import matplotlib.pyplot as plt\n",
    "\n",
    "%matplotlib inline"
   ]
  },
  {
   "cell_type": "code",
   "execution_count": 3,
   "id": "004fbdec",
   "metadata": {},
   "outputs": [],
   "source": [
    "# data\n",
    "\n",
    "with warnings.catch_warnings():\n",
    "    warnings.simplefilter(\"ignore\")\n",
    "    url = \"https://storage.googleapis.com/cmip6/pangeo-cmip6.json\"\n",
    "    col = intake.open_esm_datastore(url)"
   ]
  },
  {
   "cell_type": "code",
   "execution_count": null,
   "id": "d8d50507",
   "metadata": {},
   "outputs": [],
   "source": [
    "# set up the local filecache path for faster reading\n",
    "\n",
    "cache_path = '/scratch/fld1/cmip_cache'\n",
    "\n",
    "storage_options = {\n",
    "    'filecache': {\n",
    "        'cache_storage': cache_path,\n",
    "        'target_protocol': 'gs',\n",
    "    }\n",
    "}\n",
    "\n",
    "# load 6-hourly data with meridional and zonal wind, air temperature, surface pressure, and specific humidity\n",
    "\n",
    "query = dict(source_id=['CESM2'],\n",
    "             table_id='6hrLev',\n",
    "             experiment_id=['historical', 'ssp585'],\n",
    "             variable_id=['va', 'ua', 'ta', 'ps']\n",
    ")\n",
    "\n",
    "cat = col.search(**query)\n",
    "\n",
    "# load data into dictionary use print(dset_dict.keys()) for keys\n",
    "\n",
    "warnings.filterwarnings(\"ignore\")\n",
    "\n",
    "z_kwargs = {'consolidated': True, 'decode_times':True}\n",
    "\n",
    "with dask.config.set(**{'array.slicing.split_large_chunks': True}):\n",
    "    dset_dict = cat.to_dataset_dict(\n",
    "        zarr_kwargs=z_kwargs,\n",
    "        storage_options=storage_options\n",
    ")\n",
    "\n",
    "dset_dict.keys()"
   ]
  }
 ],
 "metadata": {
  "kernelspec": {
   "display_name": "llj",
   "language": "python",
   "name": "python3"
  },
  "language_info": {
   "codemirror_mode": {
    "name": "ipython",
    "version": 3
   },
   "file_extension": ".py",
   "mimetype": "text/x-python",
   "name": "python",
   "nbconvert_exporter": "python",
   "pygments_lexer": "ipython3",
   "version": "3.12.10"
  }
 },
 "nbformat": 4,
 "nbformat_minor": 5
}
