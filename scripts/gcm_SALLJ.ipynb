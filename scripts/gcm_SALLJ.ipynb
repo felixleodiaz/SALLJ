{
 "cells": [
  {
   "cell_type": "code",
   "execution_count": null,
   "id": "92c80f29",
   "metadata": {},
   "outputs": [],
   "source": [
    "# libraries\n",
    "\n",
    "import seaborn as sns\n",
    "import xarray as xr\n",
    "import numpy as np\n",
    "import pandas as pd\n",
    "import intake\n",
    "import dask\n",
    "import regionmask\n",
    "import warnings\n",
    "from pathlib import Path\n",
    "from tqdm import tqdm\n",
    "from xmip.preprocessing import combined_preprocessing, replace_x_y_nominal_lat_lon\n",
    "import matplotlib.pyplot as plt\n",
    "\n",
    "%matplotlib inline"
   ]
  },
  {
   "cell_type": "code",
   "execution_count": null,
   "id": "004fbdec",
   "metadata": {},
   "outputs": [],
   "source": [
    "# data\n",
    "\n",
    "with warnings.catch_warnings():\n",
    "    warnings.simplefilter(\"ignore\")\n",
    "    url = \"https://storage.googleapis.com/cmip6/pangeo-cmip6.json\"\n",
    "    col = intake.open_esm_datastore(url)"
   ]
  },
  {
   "cell_type": "code",
   "execution_count": null,
   "id": "7edbb828",
   "metadata": {},
   "outputs": [],
   "source": [
    "# load 6-hourly data with meridional and zonal wind, air temperature, surface pressure, and spefific humidity\n",
    "\n",
    "query = dict(source_id=['GFDL-CM4'],# , 'MRI-ESM2-0', 'CESM2', 'CanESM5'],\n",
    "             table_id='6hrLev',\n",
    "             experiment_id=['amip', 'ssp585'],\n",
    "             variable_id=['va', 'ua', 'ta', 'ps', 'hus']\n",
    ")\n",
    "\n",
    "cat = col.search(**query)"
   ]
  },
  {
   "cell_type": "code",
   "execution_count": null,
   "id": "f4526bf2",
   "metadata": {},
   "outputs": [],
   "source": [
    "# load data into dictionary\n",
    "# keys are constructed as 'activity_id.institution_id.source_id.experiment_id.table_id.grid_label'\n",
    "\n",
    "warnings.filterwarnings(\"ignore\")\n",
    "\n",
    "z_kwargs = {'consolidated': True, 'decode_times':True}\n",
    "\n",
    "with dask.config.set(**{'array.slicing.split_large_chunks': True}):\n",
    "    dset_dict = cat.to_dataset_dict(zarr_kwargs=z_kwargs, preprocess=combined_preprocessing)\n",
    "\n",
    "dset_dict.keys()"
   ]
  },
  {
   "cell_type": "code",
   "execution_count": null,
   "id": "7aa79efa",
   "metadata": {},
   "outputs": [],
   "source": []
  }
 ],
 "metadata": {
  "language_info": {
   "name": "python"
  }
 },
 "nbformat": 4,
 "nbformat_minor": 5
}
