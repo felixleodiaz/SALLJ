{
 "cells": [
  {
   "cell_type": "code",
   "execution_count": 5,
   "id": "92c80f29",
   "metadata": {},
   "outputs": [],
   "source": [
    "# libraries\n",
    "\n",
    "import seaborn as sns\n",
    "import xarray as xr\n",
    "import numpy as np\n",
    "import pandas as pd\n",
    "import intake\n",
    "import dask\n",
    "import warnings\n",
    "from pathlib import Path\n",
    "from tqdm import tqdm\n",
    "from xmip.preprocessing import combined_preprocessing\n",
    "import matplotlib.pyplot as plt\n",
    "\n",
    "%matplotlib inline"
   ]
  },
  {
   "cell_type": "code",
   "execution_count": 6,
   "id": "004fbdec",
   "metadata": {},
   "outputs": [],
   "source": [
    "# data\n",
    "\n",
    "with warnings.catch_warnings():\n",
    "    warnings.simplefilter(\"ignore\")\n",
    "    url = \"https://storage.googleapis.com/cmip6/pangeo-cmip6.json\"\n",
    "    col = intake.open_esm_datastore(url)"
   ]
  },
  {
   "cell_type": "code",
   "execution_count": 10,
   "id": "9fd9c9a5",
   "metadata": {},
   "outputs": [
    {
     "name": "stdout",
     "output_type": "stream",
     "text": [
      "['GFDL-CM4']\n",
      "\n",
      "--> The keys in the returned dictionary of datasets are constructed as follows:\n",
      "\t'activity_id.institution_id.source_id.experiment_id.table_id.grid_label'\n"
     ]
    },
    {
     "data": {
      "text/html": [
       "\n",
       "<style>\n",
       "    /* Turns off some styling */\n",
       "    progress {\n",
       "        /* gets rid of default border in Firefox and Opera. */\n",
       "        border: none;\n",
       "        /* Needs to be in here for Safari polyfill so background images work as expected. */\n",
       "        background-size: auto;\n",
       "    }\n",
       "    progress:not([value]), progress:not([value])::-webkit-progress-bar {\n",
       "        background: repeating-linear-gradient(45deg, #7e7e7e, #7e7e7e 10px, #5c5c5c 10px, #5c5c5c 20px);\n",
       "    }\n",
       "    .progress-bar-interrupted, .progress-bar-interrupted::-webkit-progress-bar {\n",
       "        background: #F44336;\n",
       "    }\n",
       "</style>\n"
      ],
      "text/plain": [
       "<IPython.core.display.HTML object>"
      ]
     },
     "metadata": {},
     "output_type": "display_data"
    },
    {
     "data": {
      "text/html": [
       "\n",
       "    <div>\n",
       "      <progress value='2' class='' max='2' style='width:300px; height:20px; vertical-align: middle;'></progress>\n",
       "      100.00% [2/2 00:28&lt;00:00]\n",
       "    </div>\n",
       "    "
      ],
      "text/plain": [
       "<IPython.core.display.HTML object>"
      ]
     },
     "metadata": {},
     "output_type": "display_data"
    }
   ],
   "source": [
    "# load some monthly data from the GFDL-CM4 4-K warming experiment\n",
    "\n",
    "query = dict(experiment_id =['amip', 'amip-p4K'],\n",
    "             variable_id=['ua', 'va'],\n",
    "             source_id=['GFDL-CM4'],\n",
    "             table_id='Amon'\n",
    "            )\n",
    "\n",
    "cat = col.search(**query)\n",
    "print(cat.df['source_id'].unique())\n",
    "\n",
    "# load data into dictionary\n",
    "# keys are constructed as 'activity_id.institution_id.source_id.experiment_id.table_id.grid_label'\n",
    "\n",
    "z_kwargs = {'consolidated': True, 'decode_times':True}\n",
    "\n",
    "with dask.config.set(**{'scheduler': 'threads', 'array.slicing.split_large_chunks': True}):\n",
    "    dset_dict = cat.to_dataset_dict(zarr_kwargs=z_kwargs, preprocess=combined_preprocessing)"
   ]
  },
  {
   "cell_type": "code",
   "execution_count": 13,
   "id": "12faedd9",
   "metadata": {},
   "outputs": [
    {
     "name": "stdout",
     "output_type": "stream",
     "text": [
      "dict_keys(['CMIP.NOAA-GFDL.GFDL-CM4.amip.Amon.gr1', 'CFMIP.NOAA-GFDL.GFDL-CM4.amip-p4K.Amon.gr1'])\n"
     ]
    }
   ],
   "source": [
    "print(dset_dict.keys())"
   ]
  },
  {
   "cell_type": "code",
   "execution_count": 11,
   "id": "3ffa80fe",
   "metadata": {},
   "outputs": [
    {
     "name": "stdout",
     "output_type": "stream",
     "text": [
      "Done in 1.4684550762176514 seconds\n"
     ]
    }
   ],
   "source": [
    "from joblib import Parallel, delayed\n",
    "import time\n",
    "\n",
    "def task(x):\n",
    "    time.sleep(1)\n",
    "    return x\n",
    "\n",
    "start = time.time()\n",
    "results = Parallel(n_jobs=50)(delayed(task)(i) for i in range(50))\n",
    "print(\"Done in\", time.time() - start, \"seconds\")"
   ]
  },
  {
   "cell_type": "code",
   "execution_count": 14,
   "id": "fcd77ab9",
   "metadata": {},
   "outputs": [
    {
     "name": "stdout",
     "output_type": "stream",
     "text": [
      "Read time: 1.9068071842193604\n"
     ]
    }
   ],
   "source": [
    "import time\n",
    "ds = cat['CMIP.NOAA-GFDL.GFDL-CM4.amip.Amon.gr1'].to_dask()\n",
    "start = time.time()\n",
    "_ = ds['ua'].isel(time=0).load()  # force one chunk to load\n",
    "print(\"Read time:\", time.time() - start)"
   ]
  },
  {
   "cell_type": "code",
   "execution_count": 15,
   "id": "65eef9b8",
   "metadata": {},
   "outputs": [
    {
     "data": {
      "text/plain": [
       "0    gs://cmip6/CMIP6/CMIP/NOAA-GFDL/GFDL-CM4/amip/...\n",
       "1    gs://cmip6/CMIP6/CMIP/NOAA-GFDL/GFDL-CM4/amip/...\n",
       "2    gs://cmip6/CMIP6/CFMIP/NOAA-GFDL/GFDL-CM4/amip...\n",
       "3    gs://cmip6/CMIP6/CFMIP/NOAA-GFDL/GFDL-CM4/amip...\n",
       "Name: zstore, dtype: object"
      ]
     },
     "execution_count": 15,
     "metadata": {},
     "output_type": "execute_result"
    }
   ],
   "source": [
    "cat.df.head()['zstore']"
   ]
  },
  {
   "cell_type": "code",
   "execution_count": null,
   "id": "7edbb828",
   "metadata": {},
   "outputs": [],
   "source": [
    "# load 6-hourly data with meridional and zonal wind, air temperature, surface pressure, and specific humidity\n",
    "\n",
    "query = dict(source_id=['CESM2'],\n",
    "             table_id='6hrLev',\n",
    "             experiment_id=['historical', 'ssp585'],\n",
    "             variable_id=['va', 'ua', 'ta', 'ps']\n",
    ")\n",
    "\n",
    "cat = col.search(**query)\n",
    "\n",
    "# load data into dictionary\n",
    "# keys are constructed as 'activity_id.institution_id.source_id.experiment_id.table_id.grid_label'\n",
    "\n",
    "warnings.filterwarnings(\"ignore\")\n",
    "\n",
    "z_kwargs = {'consolidated': True, 'decode_times':True}\n",
    "\n",
    "with dask.config.set(**{'array.slicing.split_large_chunks': True}):\n",
    "    dset_dict = cat.to_dataset_dict(zarr_kwargs=z_kwargs)\n",
    "\n",
    "dset_dict.keys()"
   ]
  },
  {
   "cell_type": "code",
   "execution_count": null,
   "id": "f4526bf2",
   "metadata": {},
   "outputs": [],
   "source": [
    "# load data into dictionary\n",
    "# keys are constructed as 'activity_id.institution_id.source_id.experiment_id.table_id.grid_label'\n",
    "\n",
    "warnings.filterwarnings(\"ignore\")\n",
    "\n",
    "z_kwargs = {'consolidated': True, 'decode_times':True}\n",
    "\n",
    "with dask.config.set(**{'array.slicing.split_large_chunks': True}):\n",
    "    dset_dict = cat.to_dataset_dict(zarr_kwargs=z_kwargs, preprocess=combined_preprocessing)\n",
    "\n",
    "dset_dict.keys()"
   ]
  },
  {
   "cell_type": "code",
   "execution_count": null,
   "id": "7aa79efa",
   "metadata": {},
   "outputs": [],
   "source": [
    "cat.df"
   ]
  }
 ],
 "metadata": {
  "kernelspec": {
   "display_name": "llj",
   "language": "python",
   "name": "python3"
  },
  "language_info": {
   "codemirror_mode": {
    "name": "ipython",
    "version": 3
   },
   "file_extension": ".py",
   "mimetype": "text/x-python",
   "name": "python",
   "nbconvert_exporter": "python",
   "pygments_lexer": "ipython3",
   "version": "3.12.11"
  }
 },
 "nbformat": 4,
 "nbformat_minor": 5
}
