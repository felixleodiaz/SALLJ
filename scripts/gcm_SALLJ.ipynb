{
 "cells": [
  {
   "cell_type": "code",
   "execution_count": 8,
   "id": "92c80f29",
   "metadata": {},
   "outputs": [],
   "source": [
    "# libraries\n",
    "\n",
    "import seaborn as sns\n",
    "import xarray as xr\n",
    "import numpy as np\n",
    "import pandas as pd\n",
    "import intake\n",
    "import fsspec\n",
    "import dask\n",
    "import metpy.calc as mpcalc\n",
    "from metpy.units import units\n",
    "import warnings\n",
    "from tqdm import tqdm\n",
    "from xmip.preprocessing import combined_preprocessing\n",
    "import matplotlib.pyplot as plt\n",
    "\n",
    "%matplotlib inline"
   ]
  },
  {
   "cell_type": "code",
   "execution_count": 2,
   "id": "004fbdec",
   "metadata": {},
   "outputs": [],
   "source": [
    "# data\n",
    "\n",
    "with warnings.catch_warnings():\n",
    "    warnings.simplefilter(\"ignore\")\n",
    "    url = \"https://storage.googleapis.com/cmip6/pangeo-cmip6.json\"\n",
    "    col = intake.open_esm_datastore(url)"
   ]
  },
  {
   "cell_type": "code",
   "execution_count": 3,
   "id": "d8d50507",
   "metadata": {},
   "outputs": [
    {
     "name": "stdout",
     "output_type": "stream",
     "text": [
      "\n",
      "--> The keys in the returned dictionary of datasets are constructed as follows:\n",
      "\t'activity_id.institution_id.source_id.experiment_id.table_id.grid_label'\n"
     ]
    },
    {
     "data": {
      "text/html": [
       "\n",
       "<style>\n",
       "    /* Turns off some styling */\n",
       "    progress {\n",
       "        /* gets rid of default border in Firefox and Opera. */\n",
       "        border: none;\n",
       "        /* Needs to be in here for Safari polyfill so background images work as expected. */\n",
       "        background-size: auto;\n",
       "    }\n",
       "    progress:not([value]), progress:not([value])::-webkit-progress-bar {\n",
       "        background: repeating-linear-gradient(45deg, #7e7e7e, #7e7e7e 10px, #5c5c5c 10px, #5c5c5c 20px);\n",
       "    }\n",
       "    .progress-bar-interrupted, .progress-bar-interrupted::-webkit-progress-bar {\n",
       "        background: #F44336;\n",
       "    }\n",
       "</style>\n"
      ],
      "text/plain": [
       "<IPython.core.display.HTML object>"
      ]
     },
     "metadata": {},
     "output_type": "display_data"
    },
    {
     "data": {
      "text/html": [
       "\n",
       "    <div>\n",
       "      <progress value='2' class='' max='2' style='width:300px; height:20px; vertical-align: middle;'></progress>\n",
       "      100.00% [2/2 05:07&lt;00:00]\n",
       "    </div>\n",
       "    "
      ],
      "text/plain": [
       "<IPython.core.display.HTML object>"
      ]
     },
     "metadata": {},
     "output_type": "display_data"
    },
    {
     "name": "stdout",
     "output_type": "stream",
     "text": [
      "dict_keys(['CMIP.MRI.MRI-ESM2-0.historical.6hrLev.gn', 'ScenarioMIP.MRI.MRI-ESM2-0.ssp585.6hrLev.gn'])\n"
     ]
    }
   ],
   "source": [
    "# set up the local filecache path for faster reading (~5 min w 50 cores and 50 GB memory)\n",
    "\n",
    "cache_path = '/scratch/fld1/cmip_cache'\n",
    "\n",
    "storage_options = {\n",
    "    'filecache': {\n",
    "        'cache_storage': cache_path,\n",
    "        'target_protocol': 'gs',\n",
    "    }\n",
    "}\n",
    "\n",
    "# load 6-hourly data with meridional and zonal wind, air temperature, surface pressure, and specific humidity\n",
    "\n",
    "query = dict(source_id='MRI-ESM2-0',\n",
    "             table_id='6hrLev',\n",
    "             experiment_id=['historical', 'ssp585'],\n",
    "             variable_id=['va', 'ua', 'ta']\n",
    ")\n",
    "\n",
    "cat = col.search(**query)\n",
    "\n",
    "# load data into dictionary use print(dset_dict.keys()) for keys\n",
    "\n",
    "warnings.filterwarnings(\"ignore\")\n",
    "\n",
    "z_kwargs = {'consolidated': True, 'decode_times':True}\n",
    "\n",
    "with dask.config.set(**{'array.slicing.split_large_chunks': True}):\n",
    "    dset_dict = cat.to_dataset_dict(\n",
    "        zarr_kwargs=z_kwargs,\n",
    "        storage_options=storage_options,\n",
    "        preprocessing=combined_preprocessing\n",
    ")\n",
    "\n",
    "print(dset_dict.keys())"
   ]
  },
  {
   "cell_type": "code",
   "execution_count": 4,
   "id": "54649d74",
   "metadata": {},
   "outputs": [],
   "source": [
    "# select one year of 6-hourly ssp585 data for testing (with 50 cores and 50 GB memory)\n",
    "\n",
    "warm = dset_dict['ScenarioMIP.MRI.MRI-ESM2-0.ssp585.6hrLev.gn'].sel(time=slice('2060', '2060'), lat=slice(-60, 10), lon=slice(260, 330))\n",
    "hist = dset_dict['CMIP.MRI.MRI-ESM2-0.historical.6hrLev.gn'].sel(time=slice('2060', '2060'), lat=slice(-60, 10), lon=slice(260, 330))"
   ]
  },
  {
   "cell_type": "markdown",
   "id": "b8838096",
   "metadata": {},
   "source": [
    "Functions for computation (finding LLJs, computing vorticity, etc)"
   ]
  },
  {
   "cell_type": "code",
   "execution_count": 21,
   "id": "f0e3d88f",
   "metadata": {},
   "outputs": [],
   "source": [
    "# THIS DOES NOT WORK YET\n",
    "# function to find LLJs\n",
    "\n",
    "def detect_low_level_jets(ds, wind_var=\"wind\", lev_var=\"lev\"):\n",
    "    \"\"\"\n",
    "    Detect low-level jets: core speed > 10, core level between 700–1000 hPa.\n",
    "    Stores core wind speed and core level into dataset.\n",
    "    \"\"\"\n",
    "    wind = ds[wind_var]\n",
    "\n",
    "    # Find wind max along vertical dimension\n",
    "    jet_core = wind.max(dim=lev_var)\n",
    "    jet_core_idx = wind.argmax(dim=lev_var)\n",
    "\n",
    "    # Convert index to actual pressure level values (force compute to avoid chunk issue)\n",
    "    jet_core_lev = (\n",
    "        wind[lev_var]\n",
    "        .isel({lev_var: jet_core_idx.compute()})\n",
    "        .compute()\n",
    "    )\n",
    "\n",
    "    # Criteria\n",
    "    is_llj = (jet_core > 10) & (jet_core_lev >= 700) & (jet_core_lev <= 1000)\n",
    "\n",
    "    ds[\"llj_core_speed\"] = jet_core.where(is_llj)\n",
    "    ds[\"llj_core_level\"] = jet_core_lev.where(is_llj)\n",
    "    ds[\"is_llj\"] = is_llj\n",
    "\n",
    "    return ds\n"
   ]
  },
  {
   "cell_type": "code",
   "execution_count": 20,
   "id": "02adc83a",
   "metadata": {},
   "outputs": [],
   "source": [
    "# calculate vorticity\n",
    "\n",
    "def compute_vorticity(ds, u_name=\"ua\", v_name=\"va\", lat_name=\"lat\", lon_name=\"lon\"):\n",
    "    \"\"\"\n",
    "    Compute relative and planetary vorticity using MetPy, applied across all time/lev.\n",
    "    Ensures winds have proper units.\n",
    "    \"\"\"\n",
    "    # Grab coords\n",
    "    lat = ds[lat_name]\n",
    "    lon = ds[lon_name]\n",
    "\n",
    "    # Grid spacing (in meters)\n",
    "    dx, dy = mpcalc.lat_lon_grid_deltas(lon.values, lat.values)\n",
    "\n",
    "    # Extract winds and enforce units\n",
    "    u = ds[u_name]\n",
    "    v = ds[v_name]\n",
    "\n",
    "    # If units are missing, assign them\n",
    "    if not hasattr(u, \"metpy_unit\"):\n",
    "        u = u * units(\"m/s\")\n",
    "    else:\n",
    "        u = u.metpy.convert_units(\"m/s\")\n",
    "\n",
    "    if not hasattr(v, \"metpy_unit\"):\n",
    "        v = v * units(\"m/s\")\n",
    "    else:\n",
    "        v = v.metpy.convert_units(\"m/s\")\n",
    "\n",
    "    # Apply vorticity slice by slice\n",
    "    rel_vort = xr.apply_ufunc(\n",
    "        lambda uu, vv: mpcalc.vorticity(uu, vv, dx=dx, dy=dy),\n",
    "        u, v,\n",
    "        input_core_dims=[[lat_name, lon_name], [lat_name, lon_name]],\n",
    "        output_core_dims=[[lat_name, lon_name]],\n",
    "        vectorize=True,\n",
    "        dask=\"parallelized\",\n",
    "        output_dtypes=[float],\n",
    "    )\n",
    "\n",
    "    # Planetary vorticity (Coriolis parameter f)\n",
    "    f = mpcalc.coriolis_parameter(lat.values * units.degrees).to(\"1/s\")\n",
    "\n",
    "    # Add to dataset\n",
    "    ds[\"rel_vort\"] = rel_vort\n",
    "    ds[\"f\"] = (lat.dims, f.magnitude)  # store as plain array, keep lat dims\n",
    "\n",
    "    return ds\n"
   ]
  },
  {
   "cell_type": "code",
   "execution_count": 22,
   "id": "a7c855c3",
   "metadata": {},
   "outputs": [
    {
     "ename": "ValueError",
     "evalue": "This function changed in version(s) ['1.0']--double check that the function is being called properly.\n`vorticity` given arguments with incorrect units: `u` requires \"[speed]\" but given \"none\", `v` requires \"[speed]\" but given \"none\"\nA xarray DataArray or numpy array `x` can be assigned a unit as follows:\n    from metpy.units import units\n    x = x * units(\"m/s\")\nFor more information see the Units Tutorial: https://unidata.github.io/MetPy/latest/tutorials/unit_tutorial.html",
     "output_type": "error",
     "traceback": [
      "\u001b[31m---------------------------------------------------------------------------\u001b[39m",
      "\u001b[31mValueError\u001b[39m                                Traceback (most recent call last)",
      "\u001b[36mCell\u001b[39m\u001b[36m \u001b[39m\u001b[32mIn[22]\u001b[39m\u001b[32m, line 11\u001b[39m\n\u001b[32m      1\u001b[39m \u001b[38;5;66;03m# run compute functions!!\u001b[39;00m\n\u001b[32m      3\u001b[39m subset = (\u001b[43mwarm\u001b[49m\n\u001b[32m      4\u001b[39m \u001b[43m    \u001b[49m\u001b[38;5;66;43;03m# calculate wind speed on pressure levels\u001b[39;49;00m\n\u001b[32m      5\u001b[39m \u001b[43m    \u001b[49m\u001b[43m.\u001b[49m\u001b[43massign\u001b[49m\u001b[43m(\u001b[49m\u001b[43mwind\u001b[49m\u001b[43m=\u001b[49m\u001b[38;5;28;43;01mlambda\u001b[39;49;00m\u001b[43m \u001b[49m\u001b[43mx\u001b[49m\u001b[43m:\u001b[49m\u001b[43m \u001b[49m\u001b[43mnp\u001b[49m\u001b[43m.\u001b[49m\u001b[43msqrt\u001b[49m\u001b[43m(\u001b[49m\u001b[43mx\u001b[49m\u001b[43m[\u001b[49m\u001b[33;43m'\u001b[39;49m\u001b[33;43mua\u001b[39;49m\u001b[33;43m'\u001b[39;49m\u001b[43m]\u001b[49m\u001b[43m*\u001b[49m\u001b[43m*\u001b[49m\u001b[32;43m2\u001b[39;49m\u001b[43m \u001b[49m\u001b[43m+\u001b[49m\u001b[43m \u001b[49m\u001b[43mx\u001b[49m\u001b[43m[\u001b[49m\u001b[33;43m'\u001b[39;49m\u001b[33;43mva\u001b[39;49m\u001b[33;43m'\u001b[39;49m\u001b[43m]\u001b[49m\u001b[43m*\u001b[49m\u001b[43m*\u001b[49m\u001b[32;43m2\u001b[39;49m\u001b[43m)\u001b[49m\u001b[43m)\u001b[49m\n\u001b[32m      6\u001b[39m \u001b[43m    \u001b[49m\u001b[38;5;66;43;03m# calculate vorticity\u001b[39;49;00m\n\u001b[32m      7\u001b[39m \u001b[43m    \u001b[49m\u001b[43m.\u001b[49m\u001b[43mpipe\u001b[49m\u001b[43m(\u001b[49m\u001b[43mcompute_vorticity\u001b[49m\u001b[43m,\u001b[49m\u001b[43m \u001b[49m\u001b[43mu_name\u001b[49m\u001b[43m=\u001b[49m\u001b[33;43m\"\u001b[39;49m\u001b[33;43mua\u001b[39;49m\u001b[33;43m\"\u001b[39;49m\u001b[43m,\u001b[49m\u001b[43m \u001b[49m\u001b[43mv_name\u001b[49m\u001b[43m=\u001b[49m\u001b[33;43m\"\u001b[39;49m\u001b[33;43mva\u001b[39;49m\u001b[33;43m\"\u001b[39;49m\u001b[43m,\u001b[49m\u001b[43m \u001b[49m\u001b[43mlat_name\u001b[49m\u001b[43m=\u001b[49m\u001b[33;43m\"\u001b[39;49m\u001b[33;43mlat\u001b[39;49m\u001b[33;43m\"\u001b[39;49m\u001b[43m,\u001b[49m\u001b[43m \u001b[49m\u001b[43mlon_name\u001b[49m\u001b[43m=\u001b[49m\u001b[33;43m\"\u001b[39;49m\u001b[33;43mlon\u001b[39;49m\u001b[33;43m\"\u001b[39;49m\u001b[43m)\u001b[49m\n\u001b[32m      8\u001b[39m \u001b[43m    \u001b[49m\u001b[38;5;66;43;03m# find low level jets\u001b[39;49;00m\n\u001b[32m      9\u001b[39m \u001b[43m    \u001b[49m\u001b[38;5;66;43;03m#.pipe(detect_low_level_jets, wind_var=\"wind\", lev_var=\"lev\")\u001b[39;49;00m\n\u001b[32m     10\u001b[39m \u001b[43m    \u001b[49m\u001b[43m.\u001b[49m\u001b[43msqueeze\u001b[49m\u001b[43m(\u001b[49m\u001b[43m)\u001b[49m\n\u001b[32m---> \u001b[39m\u001b[32m11\u001b[39m \u001b[43m    \u001b[49m\u001b[43m.\u001b[49m\u001b[43mcompute\u001b[49m\u001b[43m(\u001b[49m\u001b[43m)\u001b[49m)\n\u001b[32m     13\u001b[39m subset\n",
      "\u001b[36mFile \u001b[39m\u001b[32m~/miniconda3/envs/llj/lib/python3.12/site-packages/xarray/core/dataset.py:715\u001b[39m, in \u001b[36mDataset.compute\u001b[39m\u001b[34m(self, **kwargs)\u001b[39m\n\u001b[32m    691\u001b[39m \u001b[38;5;250m\u001b[39m\u001b[33;03m\"\"\"Manually trigger loading and/or computation of this dataset's data\u001b[39;00m\n\u001b[32m    692\u001b[39m \u001b[33;03mfrom disk or a remote source into memory and return a new dataset.\u001b[39;00m\n\u001b[32m    693\u001b[39m \u001b[33;03mUnlike load, the original dataset is left unaltered.\u001b[39;00m\n\u001b[32m   (...)\u001b[39m\u001b[32m    712\u001b[39m \u001b[33;03mdask.compute\u001b[39;00m\n\u001b[32m    713\u001b[39m \u001b[33;03m\"\"\"\u001b[39;00m\n\u001b[32m    714\u001b[39m new = \u001b[38;5;28mself\u001b[39m.copy(deep=\u001b[38;5;28;01mFalse\u001b[39;00m)\n\u001b[32m--> \u001b[39m\u001b[32m715\u001b[39m \u001b[38;5;28;01mreturn\u001b[39;00m \u001b[43mnew\u001b[49m\u001b[43m.\u001b[49m\u001b[43mload\u001b[49m\u001b[43m(\u001b[49m\u001b[43m*\u001b[49m\u001b[43m*\u001b[49m\u001b[43mkwargs\u001b[49m\u001b[43m)\u001b[49m\n",
      "\u001b[36mFile \u001b[39m\u001b[32m~/miniconda3/envs/llj/lib/python3.12/site-packages/xarray/core/dataset.py:542\u001b[39m, in \u001b[36mDataset.load\u001b[39m\u001b[34m(self, **kwargs)\u001b[39m\n\u001b[32m    539\u001b[39m chunkmanager = get_chunked_array_type(*lazy_data.values())\n\u001b[32m    541\u001b[39m \u001b[38;5;66;03m# evaluate all the chunked arrays simultaneously\u001b[39;00m\n\u001b[32m--> \u001b[39m\u001b[32m542\u001b[39m evaluated_data: \u001b[38;5;28mtuple\u001b[39m[np.ndarray[Any, Any], ...] = \u001b[43mchunkmanager\u001b[49m\u001b[43m.\u001b[49m\u001b[43mcompute\u001b[49m\u001b[43m(\u001b[49m\n\u001b[32m    543\u001b[39m \u001b[43m    \u001b[49m\u001b[43m*\u001b[49m\u001b[43mlazy_data\u001b[49m\u001b[43m.\u001b[49m\u001b[43mvalues\u001b[49m\u001b[43m(\u001b[49m\u001b[43m)\u001b[49m\u001b[43m,\u001b[49m\u001b[43m \u001b[49m\u001b[43m*\u001b[49m\u001b[43m*\u001b[49m\u001b[43mkwargs\u001b[49m\n\u001b[32m    544\u001b[39m \u001b[43m\u001b[49m\u001b[43m)\u001b[49m\n\u001b[32m    546\u001b[39m \u001b[38;5;28;01mfor\u001b[39;00m k, data \u001b[38;5;129;01min\u001b[39;00m \u001b[38;5;28mzip\u001b[39m(lazy_data, evaluated_data, strict=\u001b[38;5;28;01mFalse\u001b[39;00m):\n\u001b[32m    547\u001b[39m     \u001b[38;5;28mself\u001b[39m.variables[k].data = data\n",
      "\u001b[36mFile \u001b[39m\u001b[32m~/miniconda3/envs/llj/lib/python3.12/site-packages/xarray/namedarray/daskmanager.py:85\u001b[39m, in \u001b[36mDaskManager.compute\u001b[39m\u001b[34m(self, *data, **kwargs)\u001b[39m\n\u001b[32m     80\u001b[39m \u001b[38;5;28;01mdef\u001b[39;00m\u001b[38;5;250m \u001b[39m\u001b[34mcompute\u001b[39m(\n\u001b[32m     81\u001b[39m     \u001b[38;5;28mself\u001b[39m, *data: Any, **kwargs: Any\n\u001b[32m     82\u001b[39m ) -> \u001b[38;5;28mtuple\u001b[39m[np.ndarray[Any, _DType_co], ...]:\n\u001b[32m     83\u001b[39m     \u001b[38;5;28;01mfrom\u001b[39;00m\u001b[38;5;250m \u001b[39m\u001b[34;01mdask\u001b[39;00m\u001b[34;01m.\u001b[39;00m\u001b[34;01marray\u001b[39;00m\u001b[38;5;250m \u001b[39m\u001b[38;5;28;01mimport\u001b[39;00m compute\n\u001b[32m---> \u001b[39m\u001b[32m85\u001b[39m     \u001b[38;5;28;01mreturn\u001b[39;00m \u001b[43mcompute\u001b[49m\u001b[43m(\u001b[49m\u001b[43m*\u001b[49m\u001b[43mdata\u001b[49m\u001b[43m,\u001b[49m\u001b[43m \u001b[49m\u001b[43m*\u001b[49m\u001b[43m*\u001b[49m\u001b[43mkwargs\u001b[49m\u001b[43m)\u001b[49m\n",
      "\u001b[36mFile \u001b[39m\u001b[32m~/miniconda3/envs/llj/lib/python3.12/site-packages/dask/base.py:681\u001b[39m, in \u001b[36mcompute\u001b[39m\u001b[34m(traverse, optimize_graph, scheduler, get, *args, **kwargs)\u001b[39m\n\u001b[32m    678\u001b[39m     expr = expr.optimize()\n\u001b[32m    679\u001b[39m     keys = \u001b[38;5;28mlist\u001b[39m(flatten(expr.__dask_keys__()))\n\u001b[32m--> \u001b[39m\u001b[32m681\u001b[39m     results = \u001b[43mschedule\u001b[49m\u001b[43m(\u001b[49m\u001b[43mexpr\u001b[49m\u001b[43m,\u001b[49m\u001b[43m \u001b[49m\u001b[43mkeys\u001b[49m\u001b[43m,\u001b[49m\u001b[43m \u001b[49m\u001b[43m*\u001b[49m\u001b[43m*\u001b[49m\u001b[43mkwargs\u001b[49m\u001b[43m)\u001b[49m\n\u001b[32m    683\u001b[39m \u001b[38;5;28;01mreturn\u001b[39;00m repack(results)\n",
      "\u001b[36mFile \u001b[39m\u001b[32m~/miniconda3/envs/llj/lib/python3.12/site-packages/numpy/lib/_function_base_impl.py:2522\u001b[39m, in \u001b[36mvectorize.__call__\u001b[39m\u001b[34m(self, *args, **kwargs)\u001b[39m\n\u001b[32m   2519\u001b[39m     \u001b[38;5;28mself\u001b[39m._init_stage_2(*args, **kwargs)\n\u001b[32m   2520\u001b[39m     \u001b[38;5;28;01mreturn\u001b[39;00m \u001b[38;5;28mself\u001b[39m\n\u001b[32m-> \u001b[39m\u001b[32m2522\u001b[39m \u001b[38;5;28;01mreturn\u001b[39;00m \u001b[38;5;28;43mself\u001b[39;49m\u001b[43m.\u001b[49m\u001b[43m_call_as_normal\u001b[49m\u001b[43m(\u001b[49m\u001b[43m*\u001b[49m\u001b[43margs\u001b[49m\u001b[43m,\u001b[49m\u001b[43m \u001b[49m\u001b[43m*\u001b[49m\u001b[43m*\u001b[49m\u001b[43mkwargs\u001b[49m\u001b[43m)\u001b[49m\n",
      "\u001b[36mFile \u001b[39m\u001b[32m~/miniconda3/envs/llj/lib/python3.12/site-packages/numpy/lib/_function_base_impl.py:2515\u001b[39m, in \u001b[36mvectorize._call_as_normal\u001b[39m\u001b[34m(self, *args, **kwargs)\u001b[39m\n\u001b[32m   2512\u001b[39m     vargs = [args[_i] \u001b[38;5;28;01mfor\u001b[39;00m _i \u001b[38;5;129;01min\u001b[39;00m inds]\n\u001b[32m   2513\u001b[39m     vargs.extend([kwargs[_n] \u001b[38;5;28;01mfor\u001b[39;00m _n \u001b[38;5;129;01min\u001b[39;00m names])\n\u001b[32m-> \u001b[39m\u001b[32m2515\u001b[39m \u001b[38;5;28;01mreturn\u001b[39;00m \u001b[38;5;28;43mself\u001b[39;49m\u001b[43m.\u001b[49m\u001b[43m_vectorize_call\u001b[49m\u001b[43m(\u001b[49m\u001b[43mfunc\u001b[49m\u001b[43m=\u001b[49m\u001b[43mfunc\u001b[49m\u001b[43m,\u001b[49m\u001b[43m \u001b[49m\u001b[43margs\u001b[49m\u001b[43m=\u001b[49m\u001b[43mvargs\u001b[49m\u001b[43m)\u001b[49m\n",
      "\u001b[36mFile \u001b[39m\u001b[32m~/miniconda3/envs/llj/lib/python3.12/site-packages/numpy/lib/_function_base_impl.py:2596\u001b[39m, in \u001b[36mvectorize._vectorize_call\u001b[39m\u001b[34m(self, func, args)\u001b[39m\n\u001b[32m   2594\u001b[39m \u001b[38;5;250m\u001b[39m\u001b[33;03m\"\"\"Vectorized call to `func` over positional `args`.\"\"\"\u001b[39;00m\n\u001b[32m   2595\u001b[39m \u001b[38;5;28;01mif\u001b[39;00m \u001b[38;5;28mself\u001b[39m.signature \u001b[38;5;129;01mis\u001b[39;00m \u001b[38;5;129;01mnot\u001b[39;00m \u001b[38;5;28;01mNone\u001b[39;00m:\n\u001b[32m-> \u001b[39m\u001b[32m2596\u001b[39m     res = \u001b[38;5;28;43mself\u001b[39;49m\u001b[43m.\u001b[49m\u001b[43m_vectorize_call_with_signature\u001b[49m\u001b[43m(\u001b[49m\u001b[43mfunc\u001b[49m\u001b[43m,\u001b[49m\u001b[43m \u001b[49m\u001b[43margs\u001b[49m\u001b[43m)\u001b[49m\n\u001b[32m   2597\u001b[39m \u001b[38;5;28;01melif\u001b[39;00m \u001b[38;5;129;01mnot\u001b[39;00m args:\n\u001b[32m   2598\u001b[39m     res = func()\n",
      "\u001b[36mFile \u001b[39m\u001b[32m~/miniconda3/envs/llj/lib/python3.12/site-packages/numpy/lib/_function_base_impl.py:2636\u001b[39m, in \u001b[36mvectorize._vectorize_call_with_signature\u001b[39m\u001b[34m(self, func, args)\u001b[39m\n\u001b[32m   2633\u001b[39m nout = \u001b[38;5;28mlen\u001b[39m(output_core_dims)\n\u001b[32m   2635\u001b[39m \u001b[38;5;28;01mfor\u001b[39;00m index \u001b[38;5;129;01min\u001b[39;00m np.ndindex(*broadcast_shape):\n\u001b[32m-> \u001b[39m\u001b[32m2636\u001b[39m     results = \u001b[43mfunc\u001b[49m\u001b[43m(\u001b[49m\u001b[43m*\u001b[49m\u001b[43m(\u001b[49m\u001b[43marg\u001b[49m\u001b[43m[\u001b[49m\u001b[43mindex\u001b[49m\u001b[43m]\u001b[49m\u001b[43m \u001b[49m\u001b[38;5;28;43;01mfor\u001b[39;49;00m\u001b[43m \u001b[49m\u001b[43marg\u001b[49m\u001b[43m \u001b[49m\u001b[38;5;129;43;01min\u001b[39;49;00m\u001b[43m \u001b[49m\u001b[43margs\u001b[49m\u001b[43m)\u001b[49m\u001b[43m)\u001b[49m\n\u001b[32m   2638\u001b[39m     n_results = \u001b[38;5;28mlen\u001b[39m(results) \u001b[38;5;28;01mif\u001b[39;00m \u001b[38;5;28misinstance\u001b[39m(results, \u001b[38;5;28mtuple\u001b[39m) \u001b[38;5;28;01melse\u001b[39;00m \u001b[32m1\u001b[39m\n\u001b[32m   2640\u001b[39m     \u001b[38;5;28;01mif\u001b[39;00m nout != n_results:\n",
      "\u001b[36mCell\u001b[39m\u001b[36m \u001b[39m\u001b[32mIn[20]\u001b[39m\u001b[32m, line 32\u001b[39m, in \u001b[36mcompute_vorticity.<locals>.<lambda>\u001b[39m\u001b[34m(uu, vv)\u001b[39m\n\u001b[32m     28\u001b[39m     v = v.metpy.convert_units(\u001b[33m\"\u001b[39m\u001b[33mm/s\u001b[39m\u001b[33m\"\u001b[39m)\n\u001b[32m     30\u001b[39m \u001b[38;5;66;03m# Apply vorticity slice by slice\u001b[39;00m\n\u001b[32m     31\u001b[39m rel_vort = xr.apply_ufunc(\n\u001b[32m---> \u001b[39m\u001b[32m32\u001b[39m     \u001b[38;5;28;01mlambda\u001b[39;00m uu, vv: \u001b[43mmpcalc\u001b[49m\u001b[43m.\u001b[49m\u001b[43mvorticity\u001b[49m\u001b[43m(\u001b[49m\u001b[43muu\u001b[49m\u001b[43m,\u001b[49m\u001b[43m \u001b[49m\u001b[43mvv\u001b[49m\u001b[43m,\u001b[49m\u001b[43m \u001b[49m\u001b[43mdx\u001b[49m\u001b[43m=\u001b[49m\u001b[43mdx\u001b[49m\u001b[43m,\u001b[49m\u001b[43m \u001b[49m\u001b[43mdy\u001b[49m\u001b[43m=\u001b[49m\u001b[43mdy\u001b[49m\u001b[43m)\u001b[49m,\n\u001b[32m     33\u001b[39m     u, v,\n\u001b[32m     34\u001b[39m     input_core_dims=[[lat_name, lon_name], [lat_name, lon_name]],\n\u001b[32m     35\u001b[39m     output_core_dims=[[lat_name, lon_name]],\n\u001b[32m     36\u001b[39m     vectorize=\u001b[38;5;28;01mTrue\u001b[39;00m,\n\u001b[32m     37\u001b[39m     dask=\u001b[33m\"\u001b[39m\u001b[33mparallelized\u001b[39m\u001b[33m\"\u001b[39m,\n\u001b[32m     38\u001b[39m     output_dtypes=[\u001b[38;5;28mfloat\u001b[39m],\n\u001b[32m     39\u001b[39m )\n\u001b[32m     41\u001b[39m \u001b[38;5;66;03m# Planetary vorticity (Coriolis parameter f)\u001b[39;00m\n\u001b[32m     42\u001b[39m f = mpcalc.coriolis_parameter(lat.values * units.degrees).to(\u001b[33m\"\u001b[39m\u001b[33m1/s\u001b[39m\u001b[33m\"\u001b[39m)\n",
      "\u001b[36mFile \u001b[39m\u001b[32m~/miniconda3/envs/llj/lib/python3.12/site-packages/metpy/calc/tools.py:1184\u001b[39m, in \u001b[36mparse_grid_arguments.<locals>.wrapper\u001b[39m\u001b[34m(*args, **kwargs)\u001b[39m\n\u001b[32m   1180\u001b[39m local_namespace = \u001b[38;5;28mvars\u001b[39m()\n\u001b[32m   1181\u001b[39m bound_args.arguments.update({param: local_namespace[param]\n\u001b[32m   1182\u001b[39m                              \u001b[38;5;28;01mfor\u001b[39;00m param, uses \u001b[38;5;129;01min\u001b[39;00m orig_func_uses.items() \u001b[38;5;28;01mif\u001b[39;00m uses})\n\u001b[32m-> \u001b[39m\u001b[32m1184\u001b[39m \u001b[38;5;28;01mreturn\u001b[39;00m \u001b[43mfunc\u001b[49m\u001b[43m(\u001b[49m\u001b[43m*\u001b[49m\u001b[43mbound_args\u001b[49m\u001b[43m.\u001b[49m\u001b[43margs\u001b[49m\u001b[43m,\u001b[49m\u001b[43m \u001b[49m\u001b[43m*\u001b[49m\u001b[43m*\u001b[49m\u001b[43mbound_args\u001b[49m\u001b[43m.\u001b[49m\u001b[43mkwargs\u001b[49m\u001b[43m)\u001b[49m\n",
      "\u001b[36mFile \u001b[39m\u001b[32m~/miniconda3/envs/llj/lib/python3.12/site-packages/metpy/xarray.py:1328\u001b[39m, in \u001b[36mpreprocess_and_wrap.<locals>.decorator.<locals>.wrapper\u001b[39m\u001b[34m(*args, **kwargs)\u001b[39m\n\u001b[32m   1325\u001b[39m     _mutate_arguments(bound_args, units.Quantity, \u001b[38;5;28;01mlambda\u001b[39;00m arg, _: arg.m)\n\u001b[32m   1327\u001b[39m \u001b[38;5;66;03m# Evaluate inner calculation\u001b[39;00m\n\u001b[32m-> \u001b[39m\u001b[32m1328\u001b[39m result = \u001b[43mfunc\u001b[49m\u001b[43m(\u001b[49m\u001b[43m*\u001b[49m\u001b[43mbound_args\u001b[49m\u001b[43m.\u001b[49m\u001b[43margs\u001b[49m\u001b[43m,\u001b[49m\u001b[43m \u001b[49m\u001b[43m*\u001b[49m\u001b[43m*\u001b[49m\u001b[43mbound_args\u001b[49m\u001b[43m.\u001b[49m\u001b[43mkwargs\u001b[49m\u001b[43m)\u001b[49m\n\u001b[32m   1330\u001b[39m \u001b[38;5;66;03m# Wrap output based on match and match_unit\u001b[39;00m\n\u001b[32m   1331\u001b[39m \u001b[38;5;28;01mif\u001b[39;00m match \u001b[38;5;129;01mis\u001b[39;00m \u001b[38;5;28;01mNone\u001b[39;00m:\n",
      "\u001b[36mFile \u001b[39m\u001b[32m~/miniconda3/envs/llj/lib/python3.12/site-packages/metpy/units.py:336\u001b[39m, in \u001b[36mcheck_units.<locals>.dec.<locals>.wrapper\u001b[39m\u001b[34m(*args, **kwargs)\u001b[39m\n\u001b[32m    334\u001b[39m \u001b[38;5;129m@functools\u001b[39m.wraps(func)\n\u001b[32m    335\u001b[39m \u001b[38;5;28;01mdef\u001b[39;00m\u001b[38;5;250m \u001b[39m\u001b[34mwrapper\u001b[39m(*args, **kwargs):\n\u001b[32m--> \u001b[39m\u001b[32m336\u001b[39m     \u001b[43m_check_units_inner_helper\u001b[49m\u001b[43m(\u001b[49m\u001b[43mfunc\u001b[49m\u001b[43m,\u001b[49m\u001b[43m \u001b[49m\u001b[43msig\u001b[49m\u001b[43m,\u001b[49m\u001b[43m \u001b[49m\u001b[43mdefaults\u001b[49m\u001b[43m,\u001b[49m\u001b[43m \u001b[49m\u001b[43mdims\u001b[49m\u001b[43m,\u001b[49m\u001b[43m \u001b[49m\u001b[43m*\u001b[49m\u001b[43margs\u001b[49m\u001b[43m,\u001b[49m\u001b[43m \u001b[49m\u001b[43m*\u001b[49m\u001b[43m*\u001b[49m\u001b[43mkwargs\u001b[49m\u001b[43m)\u001b[49m\n\u001b[32m    337\u001b[39m     \u001b[38;5;28;01mreturn\u001b[39;00m func(*args, **kwargs)\n",
      "\u001b[36mFile \u001b[39m\u001b[32m~/miniconda3/envs/llj/lib/python3.12/site-packages/metpy/units.py:323\u001b[39m, in \u001b[36m_check_units_inner_helper\u001b[39m\u001b[34m(func, sig, defaults, dims, *args, **kwargs)\u001b[39m\n\u001b[32m    318\u001b[39m         \u001b[38;5;28;01mif\u001b[39;00m changed_versions:\n\u001b[32m    319\u001b[39m             msg = (\n\u001b[32m    320\u001b[39m                 \u001b[33mf\u001b[39m\u001b[33m'\u001b[39m\u001b[33mThis function changed in version(s) \u001b[39m\u001b[38;5;132;01m{\u001b[39;00mchanged_versions\u001b[38;5;132;01m}\u001b[39;00m\u001b[33m--double check \u001b[39m\u001b[33m'\u001b[39m\n\u001b[32m    321\u001b[39m                 \u001b[33m'\u001b[39m\u001b[33mthat the function is being called properly.\u001b[39m\u001b[38;5;130;01m\\n\u001b[39;00m\u001b[33m'\u001b[39m\n\u001b[32m    322\u001b[39m             ) + msg\n\u001b[32m--> \u001b[39m\u001b[32m323\u001b[39m     \u001b[38;5;28;01mraise\u001b[39;00m \u001b[38;5;167;01mValueError\u001b[39;00m(msg)\n\u001b[32m    325\u001b[39m \u001b[38;5;66;03m# Return the bound arguments for reuse\u001b[39;00m\n\u001b[32m    326\u001b[39m \u001b[38;5;28;01mreturn\u001b[39;00m bound_args\n",
      "\u001b[31mValueError\u001b[39m: This function changed in version(s) ['1.0']--double check that the function is being called properly.\n`vorticity` given arguments with incorrect units: `u` requires \"[speed]\" but given \"none\", `v` requires \"[speed]\" but given \"none\"\nA xarray DataArray or numpy array `x` can be assigned a unit as follows:\n    from metpy.units import units\n    x = x * units(\"m/s\")\nFor more information see the Units Tutorial: https://unidata.github.io/MetPy/latest/tutorials/unit_tutorial.html"
     ]
    }
   ],
   "source": [
    "# run compute functions!!\n",
    "\n",
    "subset = (warm\n",
    "    # calculate wind speed on pressure levels\n",
    "    .assign(wind=lambda x: np.sqrt(x['ua']**2 + x['va']**2))\n",
    "    # calculate vorticity\n",
    "    .pipe(compute_vorticity, u_name=\"ua\", v_name=\"va\", lat_name=\"lat\", lon_name=\"lon\")\n",
    "    # find low level jets\n",
    "    #.pipe(detect_low_level_jets, wind_var=\"wind\", lev_var=\"lev\")\n",
    "    .squeeze()\n",
    "    .compute())\n",
    "\n",
    "subset"
   ]
  },
  {
   "cell_type": "code",
   "execution_count": null,
   "id": "047a313d",
   "metadata": {},
   "outputs": [],
   "source": [
    "# quiver plot during LLJ time (time = 225)\n",
    "\n",
    "dst = subset.isel(time=225).sel(lev=0.8, method='nearest')"
   ]
  },
  {
   "cell_type": "code",
   "execution_count": null,
   "id": "e1597e59",
   "metadata": {},
   "outputs": [],
   "source": [
    "import cartopy.feature as cfeature\n",
    "import cartopy.crs as ccrs\n",
    "\n",
    "# cartopy mapping things\n",
    "proj = ccrs.PlateCarree()\n",
    "fig = plt.subplots(figsize=(14, 6), ncols=2, gridspec_kw={\"width_ratios\": [2.5, 1]})\n",
    "fig, (ax1, ax2) = fig\n",
    "sns.set_style('white')\n",
    "sns.despine(ax=ax2, top=True, bottom=True, right=True, left=True)\n",
    "sns.despine(ax=ax1, top=True, bottom=True, right=True, left=True)\n",
    "\n",
    "# plot number one\n",
    "ax1 = plt.subplot(1, 2, 1, projection=proj)\n",
    "\n",
    "# add background wind speed as color shading\n",
    "speed_plot = ax1.pcolormesh(\n",
    "    dst.lon, dst.lat, dst.wind,\n",
    "    transform=proj, cmap='plasma', shading='auto'\n",
    ")\n",
    "\n",
    "# add colorbar\n",
    "cbar = plt.colorbar(speed_plot, ax=ax1, orientation='vertical', pad=0.02)\n",
    "cbar.set_label('Wind Speed (m/s)')\n",
    "\n",
    "# plot wind vectors\n",
    "q = ax1.quiver(\n",
    "    dst.lon, dst.lat,\n",
    "    dst.uas, dst.vas,\n",
    "    transform=proj, scale=500, width=0.002, color='k'\n",
    ")\n",
    "\n",
    "# add quiver key\n",
    "ax1.quiverkey(q, 0.9, -0.1, 10, \"10 m/s\", labelpos='E')\n",
    "ax1.set_xlabel('Longitude (degrees east)')\n",
    "ax1.set_ylabel('Latitude (degrees north)')\n",
    "\n",
    "# add Cartopy features\n",
    "ax1.coastlines()\n",
    "ax1.add_feature(cfeature.BORDERS, linewidth=0.5)\n",
    "ax1.add_feature(cfeature.LAND, facecolor='lightgray', zorder=0)\n",
    "ax1.add_feature(cfeature.OCEAN, facecolor='lightblue', zorder=0)\n",
    "# ax1.gridlines(draw_labels=True, linewidth=0.3, color='gray', alpha=0.5)\n",
    "\n",
    "# title\n",
    "ax1.set_title('Surface Wind Vectors with Wind Speed (m/s)', fontsize=14)\n",
    "\n",
    "# left panel\n",
    "ax = subset.sel(lon=slice(280, 320)).sel(lat=-20, method='nearest').isel(time=225).va.plot(ax=ax2)\n",
    "ax.axes.set_ylim(1, 0.4)\n",
    "ax.axes.set_title('Meridional Wind Profile')"
   ]
  },
  {
   "cell_type": "code",
   "execution_count": null,
   "id": "8e5b57cb",
   "metadata": {},
   "outputs": [],
   "source": []
  },
  {
   "cell_type": "code",
   "execution_count": null,
   "id": "79fd2814",
   "metadata": {},
   "outputs": [],
   "source": [
    "jets.where('llj_class'!='C3')"
   ]
  }
 ],
 "metadata": {
  "kernelspec": {
   "display_name": "llj",
   "language": "python",
   "name": "python3"
  },
  "language_info": {
   "codemirror_mode": {
    "name": "ipython",
    "version": 3
   },
   "file_extension": ".py",
   "mimetype": "text/x-python",
   "name": "python",
   "nbconvert_exporter": "python",
   "pygments_lexer": "ipython3",
   "version": "3.12.11"
  }
 },
 "nbformat": 4,
 "nbformat_minor": 5
}
