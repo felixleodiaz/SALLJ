{
 "cells": [
  {
   "cell_type": "markdown",
   "id": "92bff1d3",
   "metadata": {},
   "source": [
    "## Cross Sections ##\n",
    "\n",
    "This section is testing for the cross section script which looks at wind profiles under 4K warming, 4K cooling, and normal conditons. It also looks at warming and heating \"anomolies\" which are the deviation of these scenarios from the standard scenario. The script for HPCC use is called month_cross_sections.py and the results of the HPCC run can be found in figures."
   ]
  },
  {
   "cell_type": "code",
   "execution_count": null,
   "id": "7330c0bb",
   "metadata": {},
   "outputs": [],
   "source": [
    "# libraries\n",
    "\n",
    "import seaborn as sns\n",
    "import xarray as xr\n",
    "import numpy as np\n",
    "import pandas as pd\n",
    "import intake\n",
    "import dask\n",
    "import regionmask\n",
    "import warnings\n",
    "from pathlib import Path\n",
    "from tqdm import tqdm\n",
    "from xmip.preprocessing import combined_preprocessing, replace_x_y_nominal_lat_lon\n",
    "import matplotlib.pyplot as plt\n",
    "\n",
    "%matplotlib inline"
   ]
  },
  {
   "cell_type": "code",
   "execution_count": null,
   "id": "05691035",
   "metadata": {},
   "outputs": [],
   "source": [
    "# data\n",
    "\n",
    "with warnings.catch_warnings():\n",
    "    warnings.simplefilter(\"ignore\")\n",
    "    url = \"https://storage.googleapis.com/cmip6/pangeo-cmip6.json\"\n",
    "    col = intake.open_esm_datastore(url)"
   ]
  },
  {
   "cell_type": "code",
   "execution_count": null,
   "id": "b7b26204",
   "metadata": {},
   "outputs": [],
   "source": [
    "# load some monthly data from the GFDL-CM4 4-K warming experiment\n",
    "\n",
    "query = dict(experiment_id =['amip-p4K'],\n",
    "             variable_id=['ua', 'va'],\n",
    "             source_id=['GFDL-CM4'],\n",
    "             table_id='Amon'\n",
    "            )\n",
    "\n",
    "cat = col.search(**query)\n",
    "print(cat.df['source_id'].unique())\n",
    "\n",
    "# load data into dictionary\n",
    "# keys are constructed as 'activity_id.institution_id.source_id.experiment_id.table_id.grid_label'\n",
    "\n",
    "z_kwargs = {'consolidated': True, 'decode_times':True}\n",
    "\n",
    "with dask.config.set(**{'array.slicing.split_large_chunks': True}):\n",
    "    dset_dict = cat.to_dataset_dict(zarr_kwargs=z_kwargs, preprocess=combined_preprocessing)\n"
   ]
  },
  {
   "cell_type": "code",
   "execution_count": null,
   "id": "b891e0a2",
   "metadata": {},
   "outputs": [],
   "source": [
    "print(dset_dict.keys())"
   ]
  },
  {
   "cell_type": "code",
   "execution_count": null,
   "id": "fa92955e",
   "metadata": {},
   "outputs": [],
   "source": [
    "dsh = dset_dict['CMIP.NOAA-GFDL.GFDL-CM4.amip.Amon.gr1']\n",
    "dsw = dset_dict['CFMIP.NOAA-GFDL.GFDL-CM4.amip-p4K.Amon.gr1']\n",
    "dsc = dset_dict['CFMIP.NOAA-GFDL.GFDL-CM4.amip-m4K.Amon.gr1']"
   ]
  },
  {
   "cell_type": "code",
   "execution_count": null,
   "id": "3977300a",
   "metadata": {},
   "outputs": [],
   "source": [
    "data = dsh.sel(time=dsh.time.dt.month == 6)\n",
    "data"
   ]
  },
  {
   "cell_type": "code",
   "execution_count": null,
   "id": "387bc743",
   "metadata": {},
   "outputs": [],
   "source": [
    "# get a couple datasets out of the dictionary\n",
    "\n",
    "ds = dset_dict['CFMIP.NOAA-GFDL.GFDL-CM4.amip-p4K.Amon.gr1']"
   ]
  },
  {
   "cell_type": "code",
   "execution_count": null,
   "id": "425e04e1",
   "metadata": {},
   "outputs": [],
   "source": [
    "months = ['Jan', 'Feb', 'Mar', 'Apr', 'May', 'Jun', \n",
    "          'Jul', 'Aug', 'Sep', 'Oct', 'Nov', 'Dec']\n",
    "\n",
    "monthly_data = {}\n",
    "for i, mon in enumerate(months, start=1):\n",
    "    data = ds.sel(time=ds.time.dt.month == i)\n",
    "    monthly_data[mon] = data.mean(dim = 'time')"
   ]
  },
  {
   "cell_type": "code",
   "execution_count": null,
   "id": "2942029f",
   "metadata": {},
   "outputs": [],
   "source": [
    "all_data = ds.va.sel(x=slice(280, 320), y=-20.5)\n",
    "global_min = all_data.min() # compute global min and max\n",
    "global_max = all_data.max()\n",
    "\n",
    "sns.axes_style('dark')\n",
    "fig, axes = plt.subplots(nrows=3, ncols=4, figsize=(12, 8), sharey=True)\n",
    "axes = axes.flatten()\n",
    "\n",
    "for ax, mon in zip(axes, months):\n",
    "    im = monthly_data[mon].va.sel(x=slice(280, 320), y=-20.5).assign_coords(plev=ds['plev'] / 100).plot(ax=ax, add_colorbar=False)\n",
    "    ax.set_ylim(1000, 400)\n",
    "    ax.set_title(f'{mon} Meridional Wind')\n",
    "    ax.set_xlabel('Longitude (°E)')\n",
    "    ax.set_ylabel('Pressure (hPa)')\n",
    "\n",
    "cbar_ax = fig.add_axes([0.92, 0.15, 0.02, 0.7])  # [left, bottom, width, height]\n",
    "fig.colorbar(im, cax=cbar_ax, label='Average Meridional Wind Speed (m/s)')  # Adjust label as needed\n",
    "\n",
    "plt.tight_layout(rect=[0, 0, 0.9, 1])  # Leave space for colorbar and title\n",
    "plt.savefig('../figures/MonthAverages.png', dpi=300)\n",
    "plt.show()"
   ]
  },
  {
   "cell_type": "markdown",
   "id": "91432421",
   "metadata": {},
   "source": [
    "## Retrieving Era 5 Data ##\n",
    "\n",
    "This second section is for testing of the low level jet detection algorithm used in this paper. It should differentiate between coupled and uncoupled jets."
   ]
  },
  {
   "cell_type": "code",
   "execution_count": null,
   "id": "18081696",
   "metadata": {},
   "outputs": [],
   "source": [
    "# libraries\n",
    "\n",
    "import seaborn as sns\n",
    "import xarray as xr\n",
    "import numpy as np\n",
    "import pandas as pd\n",
    "import dask\n",
    "import matplotlib.pyplot as plt\n",
    "\n",
    "%matplotlib inline"
   ]
  },
  {
   "cell_type": "code",
   "execution_count": null,
   "id": "8695b4a7",
   "metadata": {},
   "outputs": [],
   "source": [
    "import cdsapi\n",
    "\n",
    "client = cdsapi.Client()"
   ]
  },
  {
   "cell_type": "code",
   "execution_count": null,
   "id": "248b82c8",
   "metadata": {},
   "outputs": [],
   "source": [
    "# example ERA5 retrieval script\n",
    "\n",
    "dataset = 'reanalysis-era5-pressure-levels'\n",
    "\n",
    "request = {\n",
    "     'product_type': ['reanalysis'],\n",
    "     'variable': ['geopotential'],\n",
    "     'year': ['2024'],\n",
    "     'month': ['03'],\n",
    "     'day': ['01'],\n",
    "     'time': ['13:00'],\n",
    "     'pressure_level': ['1000'],\n",
    "     'data_format': 'netcdf',      # Supported format: grib and netcdf. Default: grib\n",
    "     'area': [60, -10, 50, 2],   # North, West, South, East. Default: global\n",
    "     'grid': [1.0, 1.0],         # Latitude/longitude grid. Default: 0.25 x 0.25 \n",
    "}\n",
    "\n",
    "target = 'download.grib'  # Output file. Adapt as you wish.\n",
    "\n",
    "client.retrieve(dataset, request, target) # this downloads it"
   ]
  },
  {
   "cell_type": "markdown",
   "id": "6c202ff7",
   "metadata": {},
   "source": [
    "or using Amazon Web Services (AWS)"
   ]
  },
  {
   "cell_type": "code",
   "execution_count": null,
   "id": "59444522",
   "metadata": {},
   "outputs": [],
   "source": [
    "data = xr.open_dataset('../data/e5.oper.an.pl.128_132_v.ll025uv.2024080100_2024080123.nc', chunks='auto')\n",
    "data"
   ]
  },
  {
   "cell_type": "code",
   "execution_count": null,
   "id": "40379a63",
   "metadata": {},
   "outputs": [],
   "source": [
    "mask = xr.open_dataset('../data/e5.oper.an.pl.128_129_z.ll025sc.2024080100_2024080123.nc', chunks='auto')\n",
    "mask"
   ]
  },
  {
   "cell_type": "code",
   "execution_count": null,
   "id": "0fa8cc20",
   "metadata": {},
   "outputs": [],
   "source": [
    "fig, ax = plt.subplots(nrows=1, ncols=1, figsize=(12, 8), sharey=True)\n",
    "data.sel(longitude=slice(280, 320), latitude=-20.5).isel(time=10).V.plot(ax=ax)\n",
    "ax.set_ylim(1000, 400)\n",
    "ax.set_title(f'Meridional Wind')\n",
    "ax.set_xlabel('Longitude (°E)')\n",
    "ax.set_ylabel('Pressure (hPa)')\n"
   ]
  },
  {
   "cell_type": "code",
   "execution_count": null,
   "id": "6afe5862",
   "metadata": {},
   "outputs": [],
   "source": [
    "fig, ax = plt.subplots(nrows=1, ncols=1, figsize=(12, 8), sharey=True)\n",
    "mask.sel(longitude=slice(280, 320), latitude=-20.5).isel(time=10).Z.plot(ax=ax)\n",
    "ax.set_ylim(1000, 400)"
   ]
  },
  {
   "cell_type": "markdown",
   "id": "7da997d6",
   "metadata": {},
   "source": [
    "## 6–Hourly Model Data ##"
   ]
  },
  {
   "cell_type": "code",
   "execution_count": null,
   "id": "d6e0383d",
   "metadata": {},
   "outputs": [],
   "source": [
    "# this is daily data with precipitation\n",
    "\n",
    "query = dict(experiment_id =['amip', 'amip-p4K'],\n",
    "             table_id='Eday',\n",
    "             variable_id=['ua', 'va', 'prw', 'ta', 'ts', 'wap'],\n",
    "             source_id='GFDL-CM4'\n",
    ")\n",
    "\n",
    "cat = col.search(**query)\n"
   ]
  },
  {
   "cell_type": "code",
   "execution_count": null,
   "id": "9dd3492f",
   "metadata": {},
   "outputs": [],
   "source": [
    "# load 6-hourly data with meridional and zonal wind, air temperature, surface pressure, and spefific humidity\n",
    "\n",
    "query = dict(source_id=['GFDL-CM4'],# , 'MRI-ESM2-0', 'CESM2', 'CanESM5'],\n",
    "             table_id='6hrLev',\n",
    "             experiment_id=['amip', 'ssp585'],\n",
    "             variable_id=['va', 'ua', 'ta', 'ps', 'hus']\n",
    ")\n",
    "\n",
    "cat = col.search(**query)"
   ]
  },
  {
   "cell_type": "code",
   "execution_count": null,
   "id": "d5329a53",
   "metadata": {},
   "outputs": [],
   "source": [
    "# load data into dictionary\n",
    "# keys are constructed as 'activity_id.institution_id.source_id.experiment_id.table_id.grid_label'\n",
    "\n",
    "warnings.filterwarnings(\"ignore\")\n",
    "\n",
    "z_kwargs = {'consolidated': True, 'decode_times':True}\n",
    "\n",
    "with dask.config.set(**{'array.slicing.split_large_chunks': True}):\n",
    "    dset_dict = cat.to_dataset_dict(zarr_kwargs=z_kwargs, preprocess=combined_preprocessing)\n",
    "\n",
    "dset_dict.keys()"
   ]
  },
  {
   "cell_type": "code",
   "execution_count": null,
   "id": "dfa53bbf",
   "metadata": {},
   "outputs": [],
   "source": [
    "dsw = dset_dict['CFMIP.NOAA-GFDL.GFDL-CM4.amip-p4K.Eday.gr2']\n",
    "dsh = dset_dict['CMIP.NOAA-GFDL.GFDL-CM4.amip.Eday.gr2']"
   ]
  },
  {
   "cell_type": "code",
   "execution_count": null,
   "id": "2315432e",
   "metadata": {},
   "outputs": [],
   "source": [
    "dsw"
   ]
  },
  {
   "cell_type": "code",
   "execution_count": null,
   "id": "d30de6e9",
   "metadata": {},
   "outputs": [],
   "source": [
    "dsw.sel(x=301.25, y=-19).isel(time=9765).va.plot()"
   ]
  }
 ],
 "metadata": {
  "kernelspec": {
   "display_name": "llj",
   "language": "python",
   "name": "python3"
  },
  "language_info": {
   "codemirror_mode": {
    "name": "ipython",
    "version": 3
   },
   "file_extension": ".py",
   "mimetype": "text/x-python",
   "name": "python",
   "nbconvert_exporter": "python",
   "pygments_lexer": "ipython3",
   "version": "3.12.10"
  }
 },
 "nbformat": 4,
 "nbformat_minor": 5
}
